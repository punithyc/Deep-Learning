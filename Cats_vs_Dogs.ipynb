{
  "nbformat": 4,
  "nbformat_minor": 0,
  "metadata": {
    "colab": {
      "provenance": [],
      "gpuType": "T4"
    },
    "kernelspec": {
      "name": "python3",
      "display_name": "Python 3"
    },
    "language_info": {
      "name": "python"
    },
    "accelerator": "GPU"
  },
  "cells": [
    {
      "cell_type": "code",
      "execution_count": null,
      "metadata": {
        "colab": {
          "base_uri": "https://localhost:8080/"
        },
        "id": "0-3Fjei-71h5",
        "outputId": "8f093afa-140e-4e27-87fe-e899d04bfd2f"
      },
      "outputs": [
        {
          "output_type": "stream",
          "name": "stdout",
          "text": [
            "Dataset URL: https://www.kaggle.com/datasets/salader/dogs-vs-cats\n",
            "License(s): unknown\n",
            "Downloading dogs-vs-cats.zip to /content\n",
            "100% 1.06G/1.06G [00:36<00:00, 34.0MB/s]\n",
            "100% 1.06G/1.06G [00:36<00:00, 31.3MB/s]\n"
          ]
        }
      ],
      "source": [
        "!kaggle datasets download -d salader/dogs-vs-cats"
      ]
    },
    {
      "cell_type": "code",
      "source": [
        "!mkdir -p~/.kaggle\n",
        "!cp kaggle.json ~/.kaggle/"
      ],
      "metadata": {
        "colab": {
          "base_uri": "https://localhost:8080/"
        },
        "id": "LL8qLfS48h-F",
        "outputId": "672333ae-7b9d-4c39-a60a-5a65824582ab"
      },
      "execution_count": null,
      "outputs": [
        {
          "output_type": "stream",
          "name": "stdout",
          "text": [
            "mkdir: invalid option -- '~'\n",
            "Try 'mkdir --help' for more information.\n",
            "cp: cannot stat 'kaggle.json': No such file or directory\n"
          ]
        }
      ]
    },
    {
      "cell_type": "code",
      "source": [
        "# extracting zip file\n",
        "import zipfile\n",
        "zip_ref=zipfile.ZipFile('/content/dogs-vs-cats.zip','r')\n",
        "zip_ref.extractall('/content')\n",
        "zip_ref.close()"
      ],
      "metadata": {
        "id": "Am7Kobsv8sMN"
      },
      "execution_count": null,
      "outputs": []
    },
    {
      "cell_type": "code",
      "source": [
        "import tensorflow as tf\n",
        "from tensorflow import keras\n",
        "from keras import Sequential\n",
        "from keras.layers import Dense,Conv2D,MaxPooling2D,Flatten,BatchNormalization,Dropout"
      ],
      "metadata": {
        "id": "CQPO5Hrs9aP-"
      },
      "execution_count": null,
      "outputs": []
    },
    {
      "cell_type": "code",
      "source": [
        "#Images are very large due to that processing large amount of images ata a time is difficult due to less ram\n",
        "#so here we use a concept called Generators these generators will divide our data into batches\n",
        "#and then everytime it loads a small amount of data into ram after completeing the process then it will load another batch\n",
        "# and in keras there are two generators one is image dataset from directory"
      ],
      "metadata": {
        "id": "tQbFRD4m-kOe"
      },
      "execution_count": null,
      "outputs": []
    },
    {
      "cell_type": "code",
      "source": [
        "train_ds=keras.utils.image_dataset_from_directory(directory='/content/train',\n",
        "                                         labels='inferred',\n",
        "                                         label_mode='int',\n",
        "                                         batch_size=32,\n",
        "                                         image_size=(256,256))\n",
        "\n",
        "validation_ds=keras.utils.image_dataset_from_directory(directory='/content/test',\n",
        "                                         labels='inferred',\n",
        "                                         label_mode='int',\n",
        "                                         batch_size=32,\n",
        "                                         image_size=(256,256))"
      ],
      "metadata": {
        "colab": {
          "base_uri": "https://localhost:8080/"
        },
        "id": "mvFCLUmh_6Hd",
        "outputId": "034573ed-e59f-471f-9a5d-1f238003e13f"
      },
      "execution_count": null,
      "outputs": [
        {
          "output_type": "stream",
          "name": "stdout",
          "text": [
            "Found 20000 files belonging to 2 classes.\n",
            "Found 5000 files belonging to 2 classes.\n"
          ]
        }
      ]
    },
    {
      "cell_type": "code",
      "source": [
        "#normalize\n",
        "def process(image,label):\n",
        "  image=tf.cast(image/255.,tf.float32)\n",
        "  return image,label\n",
        "train_ds=train_ds.map(process)\n",
        "validation_ds=validation_ds.map(process)"
      ],
      "metadata": {
        "id": "_Tp7ulhLDSk1"
      },
      "execution_count": null,
      "outputs": []
    },
    {
      "cell_type": "code",
      "source": [
        "# create cnn model\n",
        "# 3 convolutional layers with 32,64,128\n",
        "model=Sequential()\n",
        "\n",
        "model.add(Conv2D(32,kernel_size=(3,3),padding='valid',activation='relu',input_shape=(256,256,3)))\n",
        "model.add(BatchNormalization())\n",
        "model.add(MaxPooling2D(pool_size=(2,2),strides=2,padding='valid'))\n",
        "\n",
        "model.add(Conv2D(64,kernel_size=(3,3),padding='valid',activation='relu'))\n",
        "model.add(BatchNormalization())\n",
        "model.add(MaxPooling2D(pool_size=(2,2),strides=2,padding='valid'))\n",
        "\n",
        "model.add(Conv2D(128,kernel_size=(3,3),padding='valid',activation='relu'))\n",
        "model.add(BatchNormalization())\n",
        "model.add(MaxPooling2D(pool_size=(2,2),strides=2,padding='valid'))\n",
        "\n",
        "model.add(Flatten())\n",
        "\n",
        "model.add(Dense(128,activation='relu'))\n",
        "model.add(Dropout(0.1))\n",
        "model.add(Dense(64,activation='relu'))\n",
        "model.add(Dropout(0.1))\n",
        "model.add(Dense(1,activation='sigmoid'))"
      ],
      "metadata": {
        "id": "nGIDUgrvEHPB"
      },
      "execution_count": null,
      "outputs": []
    },
    {
      "cell_type": "code",
      "source": [
        "model.summary()"
      ],
      "metadata": {
        "colab": {
          "base_uri": "https://localhost:8080/"
        },
        "id": "fPxMYoSqFfcs",
        "outputId": "3f711768-8dea-4eb4-e0ec-9f72d838d1d7"
      },
      "execution_count": null,
      "outputs": [
        {
          "output_type": "stream",
          "name": "stdout",
          "text": [
            "Model: \"sequential_2\"\n",
            "_________________________________________________________________\n",
            " Layer (type)                Output Shape              Param #   \n",
            "=================================================================\n",
            " conv2d_4 (Conv2D)           (None, 254, 254, 32)      896       \n",
            "                                                                 \n",
            " batch_normalization (Batch  (None, 254, 254, 32)      128       \n",
            " Normalization)                                                  \n",
            "                                                                 \n",
            " max_pooling2d_3 (MaxPoolin  (None, 127, 127, 32)      0         \n",
            " g2D)                                                            \n",
            "                                                                 \n",
            " conv2d_5 (Conv2D)           (None, 125, 125, 64)      18496     \n",
            "                                                                 \n",
            " batch_normalization_1 (Bat  (None, 125, 125, 64)      256       \n",
            " chNormalization)                                                \n",
            "                                                                 \n",
            " max_pooling2d_4 (MaxPoolin  (None, 62, 62, 64)        0         \n",
            " g2D)                                                            \n",
            "                                                                 \n",
            " conv2d_6 (Conv2D)           (None, 60, 60, 128)       73856     \n",
            "                                                                 \n",
            " batch_normalization_2 (Bat  (None, 60, 60, 128)       512       \n",
            " chNormalization)                                                \n",
            "                                                                 \n",
            " max_pooling2d_5 (MaxPoolin  (None, 30, 30, 128)       0         \n",
            " g2D)                                                            \n",
            "                                                                 \n",
            " flatten_1 (Flatten)         (None, 115200)            0         \n",
            "                                                                 \n",
            " dense_3 (Dense)             (None, 128)               14745728  \n",
            "                                                                 \n",
            " dropout (Dropout)           (None, 128)               0         \n",
            "                                                                 \n",
            " dense_4 (Dense)             (None, 64)                8256      \n",
            "                                                                 \n",
            " dropout_1 (Dropout)         (None, 64)                0         \n",
            "                                                                 \n",
            " dense_5 (Dense)             (None, 1)                 65        \n",
            "                                                                 \n",
            "=================================================================\n",
            "Total params: 14848193 (56.64 MB)\n",
            "Trainable params: 14847745 (56.64 MB)\n",
            "Non-trainable params: 448 (1.75 KB)\n",
            "_________________________________________________________________\n"
          ]
        }
      ]
    },
    {
      "cell_type": "code",
      "source": [
        "model.compile(optimizer='adam',loss='binary_crossentropy',metrics='accuracy')\n",
        "history=model.fit(train_ds,epochs=10,validation_data=validation_ds)"
      ],
      "metadata": {
        "colab": {
          "base_uri": "https://localhost:8080/"
        },
        "id": "Im6xahKoFyUr",
        "outputId": "1fc1ab2c-3f60-4e7b-f60a-c399e624e3a3"
      },
      "execution_count": null,
      "outputs": [
        {
          "output_type": "stream",
          "name": "stdout",
          "text": [
            "Epoch 1/10\n",
            "625/625 [==============================] - 75s 108ms/step - loss: 1.4793 - accuracy: 0.5554 - val_loss: 0.6490 - val_accuracy: 0.6054\n",
            "Epoch 2/10\n",
            "625/625 [==============================] - 68s 108ms/step - loss: 0.6133 - accuracy: 0.6494 - val_loss: 0.6360 - val_accuracy: 0.6094\n",
            "Epoch 3/10\n",
            "625/625 [==============================] - 63s 101ms/step - loss: 0.5325 - accuracy: 0.7158 - val_loss: 0.5214 - val_accuracy: 0.6910\n",
            "Epoch 4/10\n",
            "625/625 [==============================] - 65s 103ms/step - loss: 0.4535 - accuracy: 0.7662 - val_loss: 0.5582 - val_accuracy: 0.7154\n",
            "Epoch 5/10\n",
            "625/625 [==============================] - 64s 102ms/step - loss: 0.4306 - accuracy: 0.7804 - val_loss: 0.4505 - val_accuracy: 0.7888\n",
            "Epoch 6/10\n",
            "625/625 [==============================] - 65s 103ms/step - loss: 0.3880 - accuracy: 0.8049 - val_loss: 0.4205 - val_accuracy: 0.8066\n",
            "Epoch 7/10\n",
            "625/625 [==============================] - 67s 106ms/step - loss: 0.3105 - accuracy: 0.8339 - val_loss: 0.5470 - val_accuracy: 0.7656\n",
            "Epoch 8/10\n",
            "625/625 [==============================] - 64s 102ms/step - loss: 0.2648 - accuracy: 0.8587 - val_loss: 0.4189 - val_accuracy: 0.8138\n",
            "Epoch 9/10\n",
            "625/625 [==============================] - 65s 103ms/step - loss: 0.2360 - accuracy: 0.8741 - val_loss: 0.4736 - val_accuracy: 0.7736\n",
            "Epoch 10/10\n",
            "625/625 [==============================] - 64s 102ms/step - loss: 0.2035 - accuracy: 0.8860 - val_loss: 0.4990 - val_accuracy: 0.8158\n"
          ]
        }
      ]
    },
    {
      "cell_type": "code",
      "source": [
        "import matplotlib.pyplot as plt\n",
        "\n",
        "plt.plot(history.history['accuracy'],color='red',label='train')\n",
        "plt.plot(history.history['val_accuracy'],color='blue',label='validation')\n",
        "plt.legend()\n",
        "plt.show()"
      ],
      "metadata": {
        "colab": {
          "base_uri": "https://localhost:8080/",
          "height": 433
        },
        "id": "8BvWujhmHvCU",
        "outputId": "8ba5b61a-5d4e-401b-be60-6a3c5aecf126"
      },
      "execution_count": null,
      "outputs": [
        {
          "output_type": "display_data",
          "data": {
            "text/plain": [
              "<Figure size 640x480 with 1 Axes>"
            ],
            "image/png": "[encoded data removed]"
          },
          "metadata": {}
        }
      ]
    },
    {
      "cell_type": "code",
      "source": [
        "plt.plot(history.history['loss'],color='red',label='train')\n",
        "plt.plot(history.history['val_loss'],color='blue',label='validation')\n",
        "plt.legend()\n",
        "plt.show()"
      ],
      "metadata": {
        "colab": {
          "base_uri": "https://localhost:8080/",
          "height": 430
        },
        "id": "2D08McYtIKxI",
        "outputId": "c4a9ca00-7924-4d57-b05d-34bda5b9c678"
      },
      "execution_count": null,
      "outputs": [
        {
          "output_type": "display_data",
          "data": {
            "text/plain": [
              "<Figure size 640x480 with 1 Axes>"
            ],
            "image/png": "[encoded data removed]"
          },
          "metadata": {}
        }
      ]
    },
    {
      "cell_type": "code",
      "source": [
        "# ways to reduce overfitting\n",
        "\n",
        "# Add more data\n",
        "# Data Augementation\n",
        "# L1/L2 Regularizer\n",
        "# Dropout\n",
        "# Batchnormalization\n",
        "# Reduce Complexity"
      ],
      "metadata": {
        "id": "Ztmco4_CJ8YR"
      },
      "execution_count": null,
      "outputs": []
    }
  ]
}